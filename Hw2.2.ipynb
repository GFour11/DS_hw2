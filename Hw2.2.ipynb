{
 "cells": [
  {
   "cell_type": "code",
   "execution_count": 9,
   "id": "initial_id",
   "metadata": {
    "collapsed": true,
    "ExecuteTime": {
     "end_time": "2023-09-23T13:24:56.301106500Z",
     "start_time": "2023-09-23T13:24:56.065962400Z"
    }
   },
   "outputs": [
    {
     "name": "stdout",
     "output_type": "stream",
     "text": [
      "   N                 Должность Язык.программирования Специализация  \\\n",
      "0  1        Junior QA engineer                   NaN     Manual QA   \n",
      "1  2        Junior QA engineer                   NaN     Manual QA   \n",
      "2  3         Software Engineer               C#/.NET           NaN   \n",
      "3  4         Software Engineer            JavaScript           NaN   \n",
      "4  5  Senior Software Engineer            JavaScript           NaN   \n",
      "\n",
      "  Общий.опыт.работы Опыт.работы.на.текущем.месте  Зарплата.в.месяц  \\\n",
      "0               0.5                          0.5               400   \n",
      "1  меньше 3 месяцев             меньше 3 месяцев               430   \n",
      "2                 4                            1              2500   \n",
      "3                 5                            4              2000   \n",
      "4    10 и более лет                          0.5              4500   \n",
      "\n",
      "   Изменение.зарплаты.за.12.месяцев    Город     Размер.компании  ...  \\\n",
      "0                                 0  Харьков       до 10 человек  ...   \n",
      "1                               130  Харьков  свыше 1000 человек  ...   \n",
      "2                               800     Киев     до 1000 человек  ...   \n",
      "3                               400   Одесса      до 200 человек  ...   \n",
      "4                               500   Другой       до 10 человек  ...   \n",
      "\n",
      "  Еще.студент Уровень.английского                    Предметная.область  \\\n",
      "0        True       ниже среднего                         iOS,eCommerce   \n",
      "1        True       выше среднего                        Веб-разработка   \n",
      "2       False             средний  Веб-разработка,Корпоративные системы   \n",
      "3       False       ниже среднего   Desktop Applications,Веб-разработка   \n",
      "4       False             средний   Desktop Applications,Веб-разработка   \n",
      "\n",
      "       Дата.заполнения                                         User.Agent  \\\n",
      "0  12/06/2017 12:38:08  Mozilla/5.0 (Windows NT 10.0; Win64; x64) Appl...   \n",
      "1  12/06/2017 12:42:51  Mozilla/5.0 (iPad; CPU OS 10_2_1 like Mac OS X...   \n",
      "2  12/06/2017 13:02:47  Mozilla/5.0 (Windows NT 10.0; Win64; x64) Appl...   \n",
      "3  12/06/2017 13:03:01  Mozilla/5.0 (Windows NT 6.1; Win64; x64) Apple...   \n",
      "4  12/06/2017 13:03:47  Mozilla/5.0 (iPhone; CPU iPhone OS 10_3_2 like...   \n",
      "\n",
      "    exp current_job_exp salary Валюта  cls  \n",
      "0   0.5             0.5    400    NaN   QA  \n",
      "1   0.0             0.0    430    NaN   QA  \n",
      "2   4.0             1.0   2500    NaN  DEV  \n",
      "3   5.0             4.0   2000    NaN  DEV  \n",
      "4  10.0             0.5   4500    NaN  DEV  \n",
      "\n",
      "[5 rows x 25 columns]\n"
     ]
    }
   ],
   "source": [
    "import pandas as pd\n",
    "\n",
    "info = pd.read_csv('2017_jun_final.csv')\n",
    "\n",
    "print(info.head())\n"
   ]
  },
  {
   "cell_type": "code",
   "execution_count": 10,
   "outputs": [
    {
     "name": "stdout",
     "output_type": "stream",
     "text": [
      "(8704, 25)\n"
     ]
    }
   ],
   "source": [
    "print(info.shape)"
   ],
   "metadata": {
    "collapsed": false,
    "ExecuteTime": {
     "end_time": "2023-09-23T13:24:56.327070100Z",
     "start_time": "2023-09-23T13:24:56.319091800Z"
    }
   },
   "id": "e9421538a90e4805"
  },
  {
   "cell_type": "code",
   "execution_count": 11,
   "outputs": [
    {
     "name": "stdout",
     "output_type": "stream",
     "text": [
      "N                                     int64\n",
      "Должность                            object\n",
      "Язык.программирования                object\n",
      "Специализация                        object\n",
      "Общий.опыт.работы                    object\n",
      "Опыт.работы.на.текущем.месте         object\n",
      "Зарплата.в.месяц                      int64\n",
      "Изменение.зарплаты.за.12.месяцев      int64\n",
      "Город                                object\n",
      "Размер.компании                      object\n",
      "Тип.компании                         object\n",
      "Пол                                  object\n",
      "Возраст                               int64\n",
      "Образование                          object\n",
      "Университет                          object\n",
      "Еще.студент                            bool\n",
      "Уровень.английского                  object\n",
      "Предметная.область                   object\n",
      "Дата.заполнения                      object\n",
      "User.Agent                           object\n",
      "exp                                 float64\n",
      "current_job_exp                     float64\n",
      "salary                                int64\n",
      "Валюта                               object\n",
      "cls                                  object\n",
      "dtype: object\n"
     ]
    }
   ],
   "source": [
    "print(info.dtypes)"
   ],
   "metadata": {
    "collapsed": false,
    "ExecuteTime": {
     "end_time": "2023-09-23T13:28:48.036364300Z",
     "start_time": "2023-09-23T13:28:47.943110600Z"
    }
   },
   "id": "c81d84667400640c"
  },
  {
   "cell_type": "code",
   "execution_count": 16,
   "outputs": [
    {
     "name": "stdout",
     "output_type": "stream",
     "text": [
      "N                                    0.000000\n",
      "Должность                            0.000000\n",
      "Язык.программирования               44.232537\n",
      "Специализация                       82.938879\n",
      "Общий.опыт.работы                    0.000000\n",
      "Опыт.работы.на.текущем.месте         0.000000\n",
      "Зарплата.в.месяц                     0.000000\n",
      "Изменение.зарплаты.за.12.месяцев     0.000000\n",
      "Город                                0.000000\n",
      "Размер.компании                      0.000000\n",
      "Тип.компании                         0.000000\n",
      "Пол                                  0.000000\n",
      "Возраст                              0.000000\n",
      "Образование                          0.000000\n",
      "Университет                          4.113051\n",
      "Еще.студент                          0.000000\n",
      "Уровень.английского                  0.000000\n",
      "Предметная.область                   2.562040\n",
      "Дата.заполнения                      0.000000\n",
      "User.Agent                           0.000000\n",
      "exp                                  0.000000\n",
      "current_job_exp                      0.000000\n",
      "salary                               0.000000\n",
      "Валюта                              99.885110\n",
      "cls                                 18.083640\n",
      "dtype: float64\n"
     ]
    }
   ],
   "source": [
    "miss_info = (info.isnull().sum()/len(info))*100\n",
    "print(miss_info)"
   ],
   "metadata": {
    "collapsed": false,
    "ExecuteTime": {
     "end_time": "2023-09-23T13:57:45.778354Z",
     "start_time": "2023-09-23T13:57:45.728175400Z"
    }
   },
   "id": "feaaeecc62a6923a"
  },
  {
   "cell_type": "code",
   "execution_count": 39,
   "outputs": [
    {
     "name": "stdout",
     "output_type": "stream",
     "text": [
      "0              NaN\n",
      "1              NaN\n",
      "2          C#/.NET\n",
      "3       JavaScript\n",
      "4       JavaScript\n",
      "           ...    \n",
      "8699           NaN\n",
      "8700           NaN\n",
      "8701    Ruby/Rails\n",
      "8702           NaN\n",
      "8703          Java\n",
      "Name: Язык.программирования, Length: 8704, dtype: object\n",
      "   N                 Должность Общий.опыт.работы Опыт.работы.на.текущем.месте  \\\n",
      "0  1        Junior QA engineer               0.5                          0.5   \n",
      "1  2        Junior QA engineer  меньше 3 месяцев             меньше 3 месяцев   \n",
      "2  3         Software Engineer                 4                            1   \n",
      "3  4         Software Engineer                 5                            4   \n",
      "4  5  Senior Software Engineer    10 и более лет                          0.5   \n",
      "\n",
      "   Зарплата.в.месяц  Изменение.зарплаты.за.12.месяцев    Город  \\\n",
      "0               400                                 0  Харьков   \n",
      "1               430                               130  Харьков   \n",
      "2              2500                               800     Киев   \n",
      "3              2000                               400   Одесса   \n",
      "4              4500                               500   Другой   \n",
      "\n",
      "      Размер.компании    Тип.компании      Пол  Возраст           Образование  \\\n",
      "0       до 10 человек  Аутсорсинговая  женский       20  Незаконченное высшее   \n",
      "1  свыше 1000 человек  Аутсорсинговая  женский       21  Незаконченное высшее   \n",
      "2     до 1000 человек  Аутсорсинговая  мужской       26                Высшее   \n",
      "3      до 200 человек     Продуктовая  мужской       30               Среднее   \n",
      "4       до 10 человек     Продуктовая  мужской       30    Техникум / Колледж   \n",
      "\n",
      "   Еще.студент Уровень.английского      Дата.заполнения  \\\n",
      "0         True       ниже среднего  12/06/2017 12:38:08   \n",
      "1         True       выше среднего  12/06/2017 12:42:51   \n",
      "2        False             средний  12/06/2017 13:02:47   \n",
      "3        False       ниже среднего  12/06/2017 13:03:01   \n",
      "4        False             средний  12/06/2017 13:03:47   \n",
      "\n",
      "                                          User.Agent   exp  current_job_exp  \\\n",
      "0  Mozilla/5.0 (Windows NT 10.0; Win64; x64) Appl...   0.5              0.5   \n",
      "1  Mozilla/5.0 (iPad; CPU OS 10_2_1 like Mac OS X...   0.0              0.0   \n",
      "2  Mozilla/5.0 (Windows NT 10.0; Win64; x64) Appl...   4.0              1.0   \n",
      "3  Mozilla/5.0 (Windows NT 6.1; Win64; x64) Apple...   5.0              4.0   \n",
      "4  Mozilla/5.0 (iPhone; CPU iPhone OS 10_3_2 like...  10.0              0.5   \n",
      "\n",
      "   salary Язык.программирования  \n",
      "0     400                   NaN  \n",
      "1     430                   NaN  \n",
      "2    2500               C#/.NET  \n",
      "3    2000            JavaScript  \n",
      "4    4500            JavaScript  \n"
     ]
    },
    {
     "name": "stderr",
     "output_type": "stream",
     "text": [
      "C:\\Users\\Egor\\AppData\\Local\\Temp\\ipykernel_6328\\498877021.py:4: SettingWithCopyWarning: \n",
      "A value is trying to be set on a copy of a slice from a DataFrame.\n",
      "Try using .loc[row_indexer,col_indexer] = value instead\n",
      "\n",
      "See the caveats in the documentation: https://pandas.pydata.org/pandas-docs/stable/user_guide/indexing.html#returning-a-view-versus-a-copy\n",
      "  clear[\"Язык.программирования\"] = language\n"
     ]
    }
   ],
   "source": [
    "language = info['Язык.программирования']\n",
    "print(language)\n",
    "clear = info.dropna(axis=1)\n",
    "clear[\"Язык.программирования\"] = language\n",
    "print(clear.head())"
   ],
   "metadata": {
    "collapsed": false,
    "ExecuteTime": {
     "end_time": "2023-09-23T14:25:06.862967100Z",
     "start_time": "2023-09-23T14:25:06.701263600Z"
    }
   },
   "id": "bd278e82b586300c"
  },
  {
   "cell_type": "code",
   "execution_count": 41,
   "outputs": [
    {
     "name": "stdout",
     "output_type": "stream",
     "text": [
      "(8704, 20)\n"
     ]
    }
   ],
   "source": [
    "miss_info = (clear.isnull().sum()/len(clear))*100\n",
    "print(miss_info)"
   ],
   "metadata": {
    "collapsed": false,
    "ExecuteTime": {
     "end_time": "2023-09-23T14:26:22.666513Z",
     "start_time": "2023-09-23T14:26:22.550361200Z"
    }
   },
   "id": "e7c36515ac91ea9b"
  },
  {
   "cell_type": "code",
   "execution_count": 42,
   "outputs": [
    {
     "name": "stdout",
     "output_type": "stream",
     "text": [
      "(4854, 20)\n"
     ]
    }
   ],
   "source": [
    "clear = clear.dropna()\n",
    "print(clear.shape)"
   ],
   "metadata": {
    "collapsed": false,
    "ExecuteTime": {
     "end_time": "2023-09-23T14:26:59.440808300Z",
     "start_time": "2023-09-23T14:26:59.408819700Z"
    }
   },
   "id": "9c114ff00ed98a6d"
  },
  {
   "cell_type": "code",
   "execution_count": 62,
   "outputs": [
    {
     "name": "stdout",
     "output_type": "stream",
     "text": [
      "         N                 Должность Общий.опыт.работы  \\\n",
      "12      13         Software Engineer                 1   \n",
      "68      69         Software Engineer               1.5   \n",
      "87      88  Junior Software Engineer               0.5   \n",
      "114    115  Junior Software Engineer               1.5   \n",
      "143    144  Junior Software Engineer                 1   \n",
      "...    ...                       ...               ...   \n",
      "8546  8547         Software Engineer                 5   \n",
      "8625  8626         Software Engineer                 4   \n",
      "8635  8636  Senior Software Engineer    10 и более лет   \n",
      "8673  8674  Junior Software Engineer               0.5   \n",
      "8695  8696         Software Engineer                 1   \n",
      "\n",
      "     Опыт.работы.на.текущем.месте  Зарплата.в.месяц  \\\n",
      "12               меньше 3 месяцев               800   \n",
      "68                            0.5               900   \n",
      "87                            0.5               600   \n",
      "114                           0.5               685   \n",
      "143                             1               750   \n",
      "...                           ...               ...   \n",
      "8546                            1              2000   \n",
      "8625                            1              1750   \n",
      "8635             меньше 3 месяцев              4000   \n",
      "8673                          0.5               350   \n",
      "8695                          0.5              1500   \n",
      "\n",
      "      Изменение.зарплаты.за.12.месяцев      Город     Размер.компании  \\\n",
      "12                                 200       Киев       до 50 человек   \n",
      "68                                 900       Киев       до 10 человек   \n",
      "87                                   0       Киев       до 10 человек   \n",
      "114                                250       Киев     до 1000 человек   \n",
      "143                                250       Киев       до 10 человек   \n",
      "...                                ...        ...                 ...   \n",
      "8546                               800  Запорожье       до 50 человек   \n",
      "8625                                 0       Киев  свыше 1000 человек   \n",
      "8635                              1300   Удаленно       до 10 человек   \n",
      "8673                                50       Киев       до 50 человек   \n",
      "8695                              1000       Киев       до 10 человек   \n",
      "\n",
      "        Тип.компании      Пол  Возраст           Образование  Еще.студент  \\\n",
      "12    Аутсорсинговая  мужской       26                Высшее        False   \n",
      "68           Стартап  мужской       21  Незаконченное высшее         True   \n",
      "87    Аутсорсинговая  мужской       19  Незаконченное высшее         True   \n",
      "114   Аутсорсинговая  мужской       21  Незаконченное высшее        False   \n",
      "143   Аутсорсинговая  мужской       21  Незаконченное высшее         True   \n",
      "...              ...      ...      ...                   ...          ...   \n",
      "8546  Аутсорсинговая  мужской       22  Незаконченное высшее        False   \n",
      "8625  Аутсорсинговая  мужской       28               Среднее        False   \n",
      "8635         Стартап  мужской       33                Высшее        False   \n",
      "8673  Аутсорсинговая  мужской       22                Высшее        False   \n",
      "8695         Стартап  мужской       29                Высшее        False   \n",
      "\n",
      "     Уровень.английского      Дата.заполнения  \\\n",
      "12         ниже среднего  12/06/2017 13:05:54   \n",
      "68         выше среднего  12/06/2017 13:11:17   \n",
      "87         выше среднего  12/06/2017 13:12:25   \n",
      "114              средний  12/06/2017 13:14:52   \n",
      "143        выше среднего  12/06/2017 13:19:10   \n",
      "...                  ...                  ...   \n",
      "8546             средний  10/07/2017 14:11:26   \n",
      "8625             средний  11/07/2017 16:15:40   \n",
      "8635       выше среднего  11/07/2017 17:51:36   \n",
      "8673             средний  12/07/2017 09:37:16   \n",
      "8695             средний  12/07/2017 14:39:21   \n",
      "\n",
      "                                             User.Agent   exp  \\\n",
      "12    Mozilla/5.0 (Windows NT 6.1; Win64; x64) Apple...   1.0   \n",
      "68    Mozilla/5.0 (Windows NT 10.0; Win64; x64) Appl...   1.5   \n",
      "87    Mozilla/5.0 (X11; Linux x86_64) AppleWebKit/53...   0.5   \n",
      "114   Mozilla/5.0 (X11; Linux x86_64) AppleWebKit/53...   1.5   \n",
      "143   Mozilla/5.0 (X11; Linux x86_64) AppleWebKit/53...   1.0   \n",
      "...                                                 ...   ...   \n",
      "8546  Mozilla/5.0 (Macintosh; Intel Mac OS X 10_12_5...   5.0   \n",
      "8625  Mozilla/5.0 (X11; Ubuntu; Linux x86_64; rv:54....   4.0   \n",
      "8635  Mozilla/5.0 (X11; Linux x86_64) AppleWebKit/53...  10.0   \n",
      "8673  Mozilla/5.0 (X11; Ubuntu; Linux x86_64; rv:54....   0.5   \n",
      "8695  Mozilla/5.0 (X11; Linux x86_64) AppleWebKit/53...   1.0   \n",
      "\n",
      "      current_job_exp  salary Язык.программирования  \n",
      "12                0.0     800                Python  \n",
      "68                0.5     900                Python  \n",
      "87                0.5     600                Python  \n",
      "114               0.5     685                Python  \n",
      "143               1.0     750                Python  \n",
      "...               ...     ...                   ...  \n",
      "8546              1.0    2000                Python  \n",
      "8625              1.0    1750                Python  \n",
      "8635              0.0    4000                Python  \n",
      "8673              0.5     350                Python  \n",
      "8695              0.5    1500                Python  \n",
      "\n",
      "[207 rows x 20 columns]\n"
     ]
    }
   ],
   "source": [
    "python_data = clear[clear[\"Язык.программирования\"] == \"Python\"]\n",
    "print(python_data)"
   ],
   "metadata": {
    "collapsed": false,
    "ExecuteTime": {
     "end_time": "2023-09-24T19:25:28.674418300Z",
     "start_time": "2023-09-24T19:25:28.271167Z"
    }
   },
   "id": "842d971adb0ef99f"
  },
  {
   "cell_type": "code",
   "execution_count": null,
   "outputs": [],
   "source": [
    "print(python_data.shape)"
   ],
   "metadata": {
    "collapsed": false
   },
   "id": "c8f9e55e7f157b5"
  },
  {
   "cell_type": "code",
   "execution_count": 49,
   "outputs": [
    {
     "name": "stdout",
     "output_type": "stream",
     "text": [
      "Група: ('Junior Software Engineer',)\n",
      "       N                 Должность Общий.опыт.работы  \\\n",
      "87    88  Junior Software Engineer               0.5   \n",
      "114  115  Junior Software Engineer               1.5   \n",
      "143  144  Junior Software Engineer                 1   \n",
      "162  163  Junior Software Engineer               0.5   \n",
      "171  172  Junior Software Engineer              0.25   \n",
      "\n",
      "    Опыт.работы.на.текущем.месте  Зарплата.в.месяц  \\\n",
      "87                           0.5               600   \n",
      "114                          0.5               685   \n",
      "143                            1               750   \n",
      "162                          0.5               500   \n",
      "171                         0.25               800   \n",
      "\n",
      "     Изменение.зарплаты.за.12.месяцев    Город  Размер.компании  \\\n",
      "87                                  0     Киев    до 10 человек   \n",
      "114                               250     Киев  до 1000 человек   \n",
      "143                               250     Киев    до 10 человек   \n",
      "162                                 0  Винница   до 200 человек   \n",
      "171                                 0     Киев    до 50 человек   \n",
      "\n",
      "       Тип.компании      Пол  Возраст           Образование  Еще.студент  \\\n",
      "87   Аутсорсинговая  мужской       19  Незаконченное высшее         True   \n",
      "114  Аутсорсинговая  мужской       21  Незаконченное высшее        False   \n",
      "143  Аутсорсинговая  мужской       21  Незаконченное высшее         True   \n",
      "162  Аутсорсинговая  мужской       20    Техникум / Колледж         True   \n",
      "171     Продуктовая  мужской       25                Высшее        False   \n",
      "\n",
      "    Уровень.английского      Дата.заполнения  \\\n",
      "87        выше среднего  12/06/2017 13:12:25   \n",
      "114             средний  12/06/2017 13:14:52   \n",
      "143       выше среднего  12/06/2017 13:19:10   \n",
      "162       ниже среднего  12/06/2017 13:21:08   \n",
      "171         продвинутый  12/06/2017 13:22:31   \n",
      "\n",
      "                                            User.Agent   exp  current_job_exp  \\\n",
      "87   Mozilla/5.0 (X11; Linux x86_64) AppleWebKit/53...  0.50             0.50   \n",
      "114  Mozilla/5.0 (X11; Linux x86_64) AppleWebKit/53...  1.50             0.50   \n",
      "143  Mozilla/5.0 (X11; Linux x86_64) AppleWebKit/53...  1.00             1.00   \n",
      "162  Mozilla/5.0 (Linux; Android 7.1.2; LG-D802 Bui...  0.50             0.50   \n",
      "171  Mozilla/5.0 (X11; Linux x86_64) AppleWebKit/53...  0.25             0.25   \n",
      "\n",
      "     salary Язык.программирования  \n",
      "87      600                Python  \n",
      "114     685                Python  \n",
      "143     750                Python  \n",
      "162     500                Python  \n",
      "171     800                Python  \n",
      "Група: ('Senior Software Engineer',)\n",
      "         N                 Должность Общий.опыт.работы  \\\n",
      "302    303  Senior Software Engineer    10 и более лет   \n",
      "373    374  Senior Software Engineer                 7   \n",
      "1172  1173  Senior Software Engineer                 2   \n",
      "1363  1364  Senior Software Engineer    10 и более лет   \n",
      "1489  1490  Senior Software Engineer                 4   \n",
      "\n",
      "     Опыт.работы.на.текущем.месте  Зарплата.в.месяц  \\\n",
      "302                           0.5              3500   \n",
      "373                           0.5              3100   \n",
      "1172                            2              1300   \n",
      "1363                            2              1500   \n",
      "1489                            1              3300   \n",
      "\n",
      "      Изменение.зарплаты.за.12.месяцев     Город  Размер.компании  \\\n",
      "302                               -300      Киев   до 200 человек   \n",
      "373                               1000     Днепр   до 200 человек   \n",
      "1172                               800     Львов    до 50 человек   \n",
      "1363                              1000  Удаленно    до 10 человек   \n",
      "1489                               430     Львов  до 1000 человек   \n",
      "\n",
      "        Тип.компании      Пол  Возраст           Образование  Еще.студент  \\\n",
      "302      Продуктовая  мужской       30                Высшее        False   \n",
      "373   Аутсорсинговая  мужской       30                Высшее        False   \n",
      "1172          Другая  мужской       20  Незаконченное высшее         True   \n",
      "1363         Стартап  мужской       35                Высшее        False   \n",
      "1489  Аутсорсинговая  мужской       27                Высшее        False   \n",
      "\n",
      "     Уровень.английского      Дата.заполнения  \\\n",
      "302        выше среднего  12/06/2017 13:46:24   \n",
      "373        выше среднего  12/06/2017 13:58:16   \n",
      "1172             средний  12/06/2017 17:38:00   \n",
      "1363        элементарный  12/06/2017 19:10:01   \n",
      "1489       выше среднего  12/06/2017 20:48:17   \n",
      "\n",
      "                                             User.Agent   exp  \\\n",
      "302   Mozilla/5.0 (Windows NT 6.1; Win64; x64) Apple...  10.0   \n",
      "373   Mozilla/5.0 (Macintosh; Intel Mac OS X 10_12_6...   7.0   \n",
      "1172  Mozilla/5.0 (Linux; Android 6.0.1; Redmi 3S Bu...   2.0   \n",
      "1363  Mozilla/5.0 (Windows NT 10.0; WOW64; rv:53.0) ...  10.0   \n",
      "1489  Mozilla/5.0 (Windows NT 10.0; Win64; x64) Appl...   4.0   \n",
      "\n",
      "      current_job_exp  salary Язык.программирования  \n",
      "302               0.5    3500                Python  \n",
      "373               0.5    3100                Python  \n",
      "1172              2.0    1300                Python  \n",
      "1363              2.0    1500                Python  \n",
      "1489              1.0    3300                Python  \n",
      "Група: ('Software Engineer',)\n",
      "       N          Должность Общий.опыт.работы Опыт.работы.на.текущем.месте  \\\n",
      "12    13  Software Engineer                 1             меньше 3 месяцев   \n",
      "68    69  Software Engineer               1.5                          0.5   \n",
      "153  154  Software Engineer                 2                            1   \n",
      "217  218  Software Engineer                 8                            2   \n",
      "387  388  Software Engineer                 4                          1.5   \n",
      "\n",
      "     Зарплата.в.месяц  Изменение.зарплаты.за.12.месяцев   Город  \\\n",
      "12                800                               200    Киев   \n",
      "68                900                               900    Киев   \n",
      "153              1200                                 0   Днепр   \n",
      "217              2900                               150   Львов   \n",
      "387              1200                                 0  Другой   \n",
      "\n",
      "     Размер.компании     Тип.компании      Пол  Возраст           Образование  \\\n",
      "12     до 50 человек   Аутсорсинговая  мужской       26                Высшее   \n",
      "68     до 10 человек          Стартап  мужской       21  Незаконченное высшее   \n",
      "153    до 50 человек  Аутстаффинговая  мужской       34              Кандидат   \n",
      "217  до 1000 человек   Аутсорсинговая  мужской       26                Высшее   \n",
      "387    до 10 человек          Стартап  мужской       26                Высшее   \n",
      "\n",
      "     Еще.студент Уровень.английского      Дата.заполнения  \\\n",
      "12         False       ниже среднего  12/06/2017 13:05:54   \n",
      "68          True       выше среднего  12/06/2017 13:11:17   \n",
      "153        False         продвинутый  12/06/2017 13:20:15   \n",
      "217        False       выше среднего  12/06/2017 13:31:50   \n",
      "387        False       ниже среднего  12/06/2017 14:01:02   \n",
      "\n",
      "                                            User.Agent  exp  current_job_exp  \\\n",
      "12   Mozilla/5.0 (Windows NT 6.1; Win64; x64) Apple...  1.0              0.0   \n",
      "68   Mozilla/5.0 (Windows NT 10.0; Win64; x64) Appl...  1.5              0.5   \n",
      "153  Mozilla/5.0 (Windows NT 10.0; WOW64) AppleWebK...  2.0              1.0   \n",
      "217  Mozilla/5.0 (Windows NT 6.2; Win64; x64) Apple...  8.0              2.0   \n",
      "387  Mozilla/5.0 (X11; Linux x86_64) AppleWebKit/53...  4.0              1.5   \n",
      "\n",
      "     salary Язык.программирования  \n",
      "12      800                Python  \n",
      "68      900                Python  \n",
      "153    1200                Python  \n",
      "217    2900                Python  \n",
      "387    1200                Python  \n",
      "Група: ('System Architect',)\n",
      "         N         Должность Общий.опыт.работы Опыт.работы.на.текущем.месте  \\\n",
      "5748  5749  System Architect    10 и более лет                         0.25   \n",
      "8228  8229  System Architect    10 и более лет                            2   \n",
      "\n",
      "      Зарплата.в.месяц  Изменение.зарплаты.за.12.месяцев Город  \\\n",
      "5748              3000                                 0  Киев   \n",
      "8228              5000                                 0  Киев   \n",
      "\n",
      "     Размер.компании Тип.компании      Пол  Возраст Образование  Еще.студент  \\\n",
      "5748   до 50 человек  Продуктовая  мужской       40      Высшее        False   \n",
      "8228   до 10 человек  Продуктовая  мужской       31      Высшее        False   \n",
      "\n",
      "     Уровень.английского      Дата.заполнения  \\\n",
      "5748       выше среднего  20/06/2017 18:40:40   \n",
      "8228             средний  06/07/2017 19:15:05   \n",
      "\n",
      "                                             User.Agent   exp  \\\n",
      "5748  Mozilla/5.0 (X11; Ubuntu; Linux x86_64; rv:53....  10.0   \n",
      "8228  Mozilla/5.0 (Macintosh; Intel Mac OS X 10_12_4...  10.0   \n",
      "\n",
      "      current_job_exp  salary Язык.программирования  \n",
      "5748             0.25    3000                Python  \n",
      "8228             2.00    5000                Python  \n",
      "Група: ('Technical Lead',)\n",
      "         N       Должность Общий.опыт.работы Опыт.работы.на.текущем.месте  \\\n",
      "2632  2633  Technical Lead                 4                          1.5   \n",
      "3145  3146  Technical Lead    10 и более лет                            2   \n",
      "3935  3936  Technical Lead    10 и более лет                         0.25   \n",
      "4323  4324  Technical Lead                 2                            2   \n",
      "4746  4747  Technical Lead                 5                            3   \n",
      "\n",
      "      Зарплата.в.месяц  Изменение.зарплаты.за.12.месяцев    Город  \\\n",
      "2632              3500                              1000     Киев   \n",
      "3145              1425                               475     Киев   \n",
      "3935              3700                                 0     Киев   \n",
      "4323              3300                               800  Харьков   \n",
      "4746              2900                               180    Днепр   \n",
      "\n",
      "         Размер.компании     Тип.компании      Пол  Возраст  \\\n",
      "2632       до 50 человек      Продуктовая  мужской       23   \n",
      "3145       до 50 человек   Аутсорсинговая  мужской       43   \n",
      "3935  свыше 1000 человек   Аутсорсинговая  мужской       34   \n",
      "4323      до 200 человек   Аутсорсинговая  мужской       26   \n",
      "4746       до 10 человек  Аутстаффинговая  мужской       26   \n",
      "\n",
      "               Образование  Еще.студент Уровень.английского  \\\n",
      "2632  Незаконченное высшее        False       выше среднего   \n",
      "3145                Высшее        False       выше среднего   \n",
      "3935                Высшее        False       выше среднего   \n",
      "4323                Высшее        False             средний   \n",
      "4746                Высшее        False       выше среднего   \n",
      "\n",
      "          Дата.заполнения                                         User.Agent  \\\n",
      "2632  13/06/2017 12:37:02  Mozilla/5.0 (Macintosh; Intel Mac OS X 10_12_5...   \n",
      "3145  13/06/2017 14:51:19  Mozilla/5.0 (X11; Ubuntu; Linux x86_64; rv:52....   \n",
      "3935  14/06/2017 12:26:36  Mozilla/5.0 (Linux; Android 5.0; SM-N900V Buil...   \n",
      "4323  15/06/2017 11:16:57  Mozilla/5.0 (X11; Ubuntu; Linux x86_64; rv:53....   \n",
      "4746  16/06/2017 21:46:04  Mozilla/5.0 (Macintosh; Intel Mac OS X 10_10_2...   \n",
      "\n",
      "       exp  current_job_exp  salary Язык.программирования  \n",
      "2632   4.0             1.50    3500                Python  \n",
      "3145  10.0             2.00    1425                Python  \n",
      "3935  10.0             0.25    3700                Python  \n",
      "4323   2.0             2.00    3300                Python  \n",
      "4746   5.0             3.00    2900                Python  \n"
     ]
    }
   ],
   "source": [
    "res = python_data.groupby(['Должность'])\n",
    "for posada, group in res:\n",
    "    print(f\"Група: {posada}\")\n",
    "    print(group.head())"
   ],
   "metadata": {
    "collapsed": false,
    "ExecuteTime": {
     "end_time": "2023-09-23T16:10:12.932089100Z",
     "start_time": "2023-09-23T16:10:12.769129Z"
    }
   },
   "id": "6b9238655646e8a9"
  },
  {
   "cell_type": "code",
   "execution_count": 51,
   "outputs": [
    {
     "name": "stdout",
     "output_type": "stream",
     "text": [
      "                         Зарплата.в.месяц      \n",
      "                                      min   max\n",
      "Должность                                      \n",
      "Junior Software Engineer              100  1250\n",
      "Senior Software Engineer             1300  9200\n",
      "Software Engineer                     500  5400\n",
      "System Architect                     3000  5000\n",
      "Technical Lead                       1425  6200\n"
     ]
    }
   ],
   "source": [
    "aggregation = {'Зарплата.в.месяц':['min','max']}\n",
    "result = res.agg(aggregation)\n",
    "print(result)"
   ],
   "metadata": {
    "collapsed": false,
    "ExecuteTime": {
     "end_time": "2023-09-23T16:14:47.369835Z",
     "start_time": "2023-09-23T16:14:47.168386200Z"
    }
   },
   "id": "c107da0449114456"
  },
  {
   "cell_type": "code",
   "execution_count": 56,
   "outputs": [
    {
     "name": "stdout",
     "output_type": "stream",
     "text": [
      "         N                 Должность Общий.опыт.работы  \\\n",
      "12      13         Software Engineer                 1   \n",
      "68      69         Software Engineer               1.5   \n",
      "87      88  Junior Software Engineer               0.5   \n",
      "114    115  Junior Software Engineer               1.5   \n",
      "143    144  Junior Software Engineer                 1   \n",
      "...    ...                       ...               ...   \n",
      "8546  8547         Software Engineer                 5   \n",
      "8625  8626         Software Engineer                 4   \n",
      "8635  8636  Senior Software Engineer    10 и более лет   \n",
      "8673  8674  Junior Software Engineer               0.5   \n",
      "8695  8696         Software Engineer                 1   \n",
      "\n",
      "     Опыт.работы.на.текущем.месте  Зарплата.в.месяц  \\\n",
      "12               меньше 3 месяцев               800   \n",
      "68                            0.5               900   \n",
      "87                            0.5               600   \n",
      "114                           0.5               685   \n",
      "143                             1               750   \n",
      "...                           ...               ...   \n",
      "8546                            1              2000   \n",
      "8625                            1              1750   \n",
      "8635             меньше 3 месяцев              4000   \n",
      "8673                          0.5               350   \n",
      "8695                          0.5              1500   \n",
      "\n",
      "      Изменение.зарплаты.за.12.месяцев      Город     Размер.компании  \\\n",
      "12                                 200       Киев       до 50 человек   \n",
      "68                                 900       Киев       до 10 человек   \n",
      "87                                   0       Киев       до 10 человек   \n",
      "114                                250       Киев     до 1000 человек   \n",
      "143                                250       Киев       до 10 человек   \n",
      "...                                ...        ...                 ...   \n",
      "8546                               800  Запорожье       до 50 человек   \n",
      "8625                                 0       Киев  свыше 1000 человек   \n",
      "8635                              1300   Удаленно       до 10 человек   \n",
      "8673                                50       Киев       до 50 человек   \n",
      "8695                              1000       Киев       до 10 человек   \n",
      "\n",
      "        Тип.компании      Пол  ...           Образование Еще.студент  \\\n",
      "12    Аутсорсинговая  мужской  ...                Высшее       False   \n",
      "68           Стартап  мужской  ...  Незаконченное высшее        True   \n",
      "87    Аутсорсинговая  мужской  ...  Незаконченное высшее        True   \n",
      "114   Аутсорсинговая  мужской  ...  Незаконченное высшее       False   \n",
      "143   Аутсорсинговая  мужской  ...  Незаконченное высшее        True   \n",
      "...              ...      ...  ...                   ...         ...   \n",
      "8546  Аутсорсинговая  мужской  ...  Незаконченное высшее       False   \n",
      "8625  Аутсорсинговая  мужской  ...               Среднее       False   \n",
      "8635         Стартап  мужской  ...                Высшее       False   \n",
      "8673  Аутсорсинговая  мужской  ...                Высшее       False   \n",
      "8695         Стартап  мужской  ...                Высшее       False   \n",
      "\n",
      "      Уровень.английского      Дата.заполнения  \\\n",
      "12          ниже среднего  12/06/2017 13:05:54   \n",
      "68          выше среднего  12/06/2017 13:11:17   \n",
      "87          выше среднего  12/06/2017 13:12:25   \n",
      "114               средний  12/06/2017 13:14:52   \n",
      "143         выше среднего  12/06/2017 13:19:10   \n",
      "...                   ...                  ...   \n",
      "8546              средний  10/07/2017 14:11:26   \n",
      "8625              средний  11/07/2017 16:15:40   \n",
      "8635        выше среднего  11/07/2017 17:51:36   \n",
      "8673              средний  12/07/2017 09:37:16   \n",
      "8695              средний  12/07/2017 14:39:21   \n",
      "\n",
      "                                             User.Agent   exp  \\\n",
      "12    Mozilla/5.0 (Windows NT 6.1; Win64; x64) Apple...   1.0   \n",
      "68    Mozilla/5.0 (Windows NT 10.0; Win64; x64) Appl...   1.5   \n",
      "87    Mozilla/5.0 (X11; Linux x86_64) AppleWebKit/53...   0.5   \n",
      "114   Mozilla/5.0 (X11; Linux x86_64) AppleWebKit/53...   1.5   \n",
      "143   Mozilla/5.0 (X11; Linux x86_64) AppleWebKit/53...   1.0   \n",
      "...                                                 ...   ...   \n",
      "8546  Mozilla/5.0 (Macintosh; Intel Mac OS X 10_12_5...   5.0   \n",
      "8625  Mozilla/5.0 (X11; Ubuntu; Linux x86_64; rv:54....   4.0   \n",
      "8635  Mozilla/5.0 (X11; Linux x86_64) AppleWebKit/53...  10.0   \n",
      "8673  Mozilla/5.0 (X11; Ubuntu; Linux x86_64; rv:54....   0.5   \n",
      "8695  Mozilla/5.0 (X11; Linux x86_64) AppleWebKit/53...   1.0   \n",
      "\n",
      "      current_job_exp  salary  Язык.программирования          avg  \n",
      "12                0.0     800                 Python  1753.937198  \n",
      "68                0.5     900                 Python  1753.937198  \n",
      "87                0.5     600                 Python  1753.937198  \n",
      "114               0.5     685                 Python  1753.937198  \n",
      "143               1.0     750                 Python  1753.937198  \n",
      "...               ...     ...                    ...          ...  \n",
      "8546              1.0    2000                 Python  1753.937198  \n",
      "8625              1.0    1750                 Python  1753.937198  \n",
      "8635              0.0    4000                 Python  1753.937198  \n",
      "8673              0.5     350                 Python  1753.937198  \n",
      "8695              0.5    1500                 Python  1753.937198  \n",
      "\n",
      "[207 rows x 21 columns]\n"
     ]
    },
    {
     "name": "stderr",
     "output_type": "stream",
     "text": [
      "C:\\Users\\Egor\\AppData\\Local\\Temp\\ipykernel_6328\\1940189534.py:4: SettingWithCopyWarning: \n",
      "A value is trying to be set on a copy of a slice from a DataFrame.\n",
      "Try using .loc[row_indexer,col_indexer] = value instead\n",
      "\n",
      "See the caveats in the documentation: https://pandas.pydata.org/pandas-docs/stable/user_guide/indexing.html#returning-a-view-versus-a-copy\n",
      "  python_data['avg'] = python_data.apply(fill_avg_salary, axis=1)\n"
     ]
    }
   ],
   "source": [
    "def fill_avg_salary(row):\n",
    "    return python_data['Зарплата.в.месяц'].mean()\n",
    "\n",
    "python_data['avg'] = python_data.apply(fill_avg_salary, axis=1)\n",
    "print(python_data)"
   ],
   "metadata": {
    "collapsed": false,
    "ExecuteTime": {
     "end_time": "2023-09-23T17:36:18.765308300Z",
     "start_time": "2023-09-23T17:36:18.726220400Z"
    }
   },
   "id": "a22b88836ff86c8d"
  },
  {
   "cell_type": "code",
   "execution_count": 57,
   "outputs": [
    {
     "name": "stdout",
     "output_type": "stream",
     "text": [
      "count    2.070000e+02\n",
      "mean     1.753937e+03\n",
      "std      2.279249e-13\n",
      "min      1.753937e+03\n",
      "25%      1.753937e+03\n",
      "50%      1.753937e+03\n",
      "75%      1.753937e+03\n",
      "max      1.753937e+03\n",
      "Name: avg, dtype: float64\n"
     ]
    }
   ],
   "source": [
    "describe_status = python_data['avg'].describe()\n",
    "print(describe_status)"
   ],
   "metadata": {
    "collapsed": false,
    "ExecuteTime": {
     "end_time": "2023-09-23T17:37:59.069332100Z",
     "start_time": "2023-09-23T17:37:58.864218600Z"
    }
   },
   "id": "f4369a18044617e4"
  },
  {
   "cell_type": "code",
   "execution_count": 58,
   "outputs": [],
   "source": [
    "python_data.to_csv('python_data.csv', index=False)"
   ],
   "metadata": {
    "collapsed": false,
    "ExecuteTime": {
     "end_time": "2023-09-23T17:39:59.648843400Z",
     "start_time": "2023-09-23T17:39:59.528908200Z"
    }
   },
   "id": "a7cadbd8d64aa0b0"
  },
  {
   "cell_type": "code",
   "execution_count": 79,
   "outputs": [
    {
     "data": {
      "text/plain": "([0, 1, 2, 3, 4],\n [Text(0, 0, 'Junior Software Engineer'),\n  Text(1, 0, 'Senior Software Engineer'),\n  Text(2, 0, 'Software Engineer'),\n  Text(3, 0, 'System Architect'),\n  Text(4, 0, 'Technical Lead')])"
     },
     "execution_count": 79,
     "metadata": {},
     "output_type": "execute_result"
    },
    {
     "data": {
      "text/plain": "<Figure size 640x480 with 1 Axes>",
      "image/png": "[encoded data removed]"
     },
     "metadata": {},
     "output_type": "display_data"
    }
   ],
   "source": [
    "import matplotlib.pyplot as plt\n",
    "max = python_data.groupby('Должность')['Зарплата.в.месяц'].max().reset_index()\n",
    "x = max['Должность']\n",
    "y= max['Зарплата.в.месяц']\n",
    "plt.bar(x,y)\n",
    "plt.xticks(rotation=90)"
   ],
   "metadata": {
    "collapsed": false,
    "ExecuteTime": {
     "end_time": "2023-09-24T19:51:37.678272500Z",
     "start_time": "2023-09-24T19:51:37.443053900Z"
    }
   },
   "id": "5779649a829802a9"
  },
  {
   "cell_type": "code",
   "execution_count": 78,
   "outputs": [
    {
     "data": {
      "text/plain": "([0, 1, 2, 3, 4],\n [Text(0, 0, 'Junior Software Engineer'),\n  Text(1, 0, 'Senior Software Engineer'),\n  Text(2, 0, 'Software Engineer'),\n  Text(3, 0, 'System Architect'),\n  Text(4, 0, 'Technical Lead')])"
     },
     "execution_count": 78,
     "metadata": {},
     "output_type": "execute_result"
    },
    {
     "data": {
      "text/plain": "<Figure size 640x480 with 1 Axes>",
      "image/png": "[encoded data removed]"
     },
     "metadata": {},
     "output_type": "display_data"
    }
   ],
   "source": [
    "min = python_data.groupby('Должность')['Зарплата.в.месяц'].min().reset_index()\n",
    "x = min['Должность']\n",
    "y= min['Зарплата.в.месяц']\n",
    "plt.bar(x,y)\n",
    "plt.xticks(rotation=90)"
   ],
   "metadata": {
    "collapsed": false,
    "ExecuteTime": {
     "end_time": "2023-09-24T19:51:06.241247800Z",
     "start_time": "2023-09-24T19:51:06.020486400Z"
    }
   },
   "id": "9a3a2c7e572d7573"
  },
  {
   "cell_type": "code",
   "execution_count": 87,
   "outputs": [
    {
     "name": "stdout",
     "output_type": "stream",
     "text": [
      "                  Должность  count\n",
      "0         Software Engineer    100\n",
      "1  Junior Software Engineer     63\n",
      "2  Senior Software Engineer     31\n",
      "3            Technical Lead     11\n",
      "4          System Architect      2\n"
     ]
    },
    {
     "data": {
      "text/plain": "<Figure size 800x800 with 1 Axes>",
      "image/png": "[encoded data removed]"
     },
     "metadata": {},
     "output_type": "display_data"
    }
   ],
   "source": [
    "jobs = python_data['Должность'].value_counts().reset_index()\n",
    "jobs.columns = ['Должность', 'count']\n",
    "positions = jobs['Должность']\n",
    "count = jobs['count']\n",
    "\n",
    "plt.figure(figsize=(8, 8)) \n",
    "plt.pie(count, labels=positions, autopct='%1.1f%%', startangle=140, colors=['skyblue', 'lightcoral', 'lightgreen', 'gold', 'lightpink'])\n",
    "plt.title('Кількість вакансій')\n",
    "plt.axis('equal') \n",
    "plt.show()"
   ],
   "metadata": {
    "collapsed": false,
    "ExecuteTime": {
     "end_time": "2023-09-24T20:01:20.584998800Z",
     "start_time": "2023-09-24T20:01:20.427204600Z"
    }
   },
   "id": "37483cdf18a12c1f"
  },
  {
   "cell_type": "code",
   "execution_count": null,
   "outputs": [],
   "source": [],
   "metadata": {
    "collapsed": false
   },
   "id": "d62e1683efb9d0c4"
  }
 ],
 "metadata": {
  "kernelspec": {
   "display_name": "Python 3",
   "language": "python",
   "name": "python3"
  },
  "language_info": {
   "codemirror_mode": {
    "name": "ipython",
    "version": 2
   },
   "file_extension": ".py",
   "mimetype": "text/x-python",
   "name": "python",
   "nbconvert_exporter": "python",
   "pygments_lexer": "ipython2",
   "version": "2.7.6"
  }
 },
 "nbformat": 4,
 "nbformat_minor": 5
}
