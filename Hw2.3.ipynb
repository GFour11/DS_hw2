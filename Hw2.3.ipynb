{
 "cells": [
  {
   "cell_type": "code",
   "execution_count": 50,
   "id": "initial_id",
   "metadata": {
    "collapsed": true,
    "ExecuteTime": {
     "end_time": "2023-09-24T16:27:43.562309Z",
     "start_time": "2023-09-24T16:27:43.435175300Z"
    }
   },
   "outputs": [
    {
     "name": "stdout",
     "output_type": "stream",
     "text": [
      "                                                Name  \\\n",
      "0                      10-Day Green Smoothie Cleanse   \n",
      "1                                  11/22/63: A Novel   \n",
      "2            12 Rules for Life: An Antidote to Chaos   \n",
      "3                             1984 (Signet Classics)   \n",
      "4  5,000 Awesome Facts (About Everything!) (Natio...   \n",
      "\n",
      "                     Author  User Rating  Reviews  Price  Year        Genre  \n",
      "0                  JJ Smith          4.7    17350      8  2016  Non Fiction  \n",
      "1              Stephen King          4.6     2052     22  2011      Fiction  \n",
      "2        Jordan B. Peterson          4.7    18979     15  2018  Non Fiction  \n",
      "3             George Orwell          4.7    21424      6  2017      Fiction  \n",
      "4  National Geographic Kids          4.8     7665     12  2019  Non Fiction  \n"
     ]
    }
   ],
   "source": [
    "import pandas as pd\n",
    "\n",
    "info = pd.read_csv('bestsellers with categories.csv')\n",
    "\n",
    "print(info.head(5))"
   ]
  },
  {
   "cell_type": "code",
   "execution_count": 51,
   "outputs": [
    {
     "name": "stdout",
     "output_type": "stream",
     "text": [
      "Про скільки книг зберігає дані датасет?\n",
      "датасет зберігає дані про 550 книг\n"
     ]
    }
   ],
   "source": [
    "print('Про скільки книг зберігає дані датасет?')\n",
    "res = info.shape\n",
    "print(f'датасет зберігає дані про {res[0]} книг')"
   ],
   "metadata": {
    "collapsed": false,
    "ExecuteTime": {
     "end_time": "2023-09-24T16:27:43.562309Z",
     "start_time": "2023-09-24T16:27:43.445603500Z"
    }
   },
   "id": "b410e8ab821f3c30"
  },
  {
   "cell_type": "code",
   "execution_count": 52,
   "outputs": [
    {
     "name": "stdout",
     "output_type": "stream",
     "text": [
      "Чи у всіх рядків вистачає даних: виведіть кількість пропусків (na) у кожному зі стовпців?\n",
      "name           0\n",
      "author         0\n",
      "user_rating    0\n",
      "reviews        0\n",
      "price          0\n",
      "year           0\n",
      "genre          0\n",
      "dtype: int64\n",
      "Пропусків не виявлено\n"
     ]
    }
   ],
   "source": [
    "info.columns = ['name', 'author', 'user_rating', 'reviews', 'price', 'year', 'genre']\n",
    "print('Чи у всіх рядків вистачає даних: виведіть кількість пропусків (na) у кожному зі стовпців?')\n",
    "misses = info.isna().sum()\n",
    "print(misses)\n",
    "print('Пропусків не виявлено')"
   ],
   "metadata": {
    "collapsed": false,
    "ExecuteTime": {
     "end_time": "2023-09-24T16:27:43.668321700Z",
     "start_time": "2023-09-24T16:27:43.524463600Z"
    }
   },
   "id": "d11d82472b6a1871"
  },
  {
   "cell_type": "code",
   "execution_count": 53,
   "outputs": [
    {
     "name": "stdout",
     "output_type": "stream",
     "text": [
      "Перевірте, які є унікальні значення в колонці genre?\n",
      "Унікальні жанри Non Fiction, Fiction\n"
     ]
    }
   ],
   "source": [
    "print('Перевірте, які є унікальні значення в колонці genre?')\n",
    "uniq = info['genre'].unique()\n",
    "print(f'Унікальні жанри {\", \".join([i for i in uniq])}')"
   ],
   "metadata": {
    "collapsed": false,
    "ExecuteTime": {
     "end_time": "2023-09-24T16:27:43.740271200Z",
     "start_time": "2023-09-24T16:27:43.628082700Z"
    }
   },
   "id": "1813618d3284e212"
  },
  {
   "cell_type": "code",
   "execution_count": 54,
   "outputs": [
    {
     "data": {
      "text/plain": "Text(0.5, 0, 'Quantity')"
     },
     "execution_count": 54,
     "metadata": {},
     "output_type": "execute_result"
    },
    {
     "data": {
      "text/plain": "<Figure size 640x480 with 1 Axes>",
      "image/png": "[encoded data removed]"
     },
     "metadata": {},
     "output_type": "display_data"
    }
   ],
   "source": [
    "import matplotlib.pyplot as plt\n",
    "\n",
    "plt.hist(info['price'], bins=20, color='blue', alpha=1)\n",
    "plt.ylabel('Price')\n",
    "plt.xlabel('Quantity')\n",
    "plt.show()"
   ],
   "metadata": {
    "collapsed": false,
    "ExecuteTime": {
     "end_time": "2023-09-24T16:27:44.144136500Z",
     "start_time": "2023-09-24T16:27:43.708756200Z"
    }
   },
   "id": "35832289d94f2774"
  },
  {
   "cell_type": "code",
   "execution_count": 55,
   "outputs": [
    {
     "name": "stdout",
     "output_type": "stream",
     "text": [
      "Min price: 0\n",
      "Max price: 105\n",
      "Medium price: 13.1\n",
      "Mediana: 11.0\n"
     ]
    }
   ],
   "source": [
    "print(f'Min price: {info[\"price\"].min()}')\n",
    "print(f'Max price: {info[\"price\"].max()}')\n",
    "print(f'Medium price: {info[\"price\"].mean()}')\n",
    "print(f'Mediana: {info[\"price\"].median()}')"
   ],
   "metadata": {
    "collapsed": false,
    "ExecuteTime": {
     "end_time": "2023-09-24T16:27:44.148125200Z",
     "start_time": "2023-09-24T16:27:44.137681700Z"
    }
   },
   "id": "c855c9f7f5e48bc"
  },
  {
   "cell_type": "code",
   "execution_count": 56,
   "outputs": [
    {
     "name": "stdout",
     "output_type": "stream",
     "text": [
      "Який рейтинг у датасеті найвищий?\n",
      "Answer:4.9\n"
     ]
    }
   ],
   "source": [
    "print('Який рейтинг у датасеті найвищий?')\n",
    "print(f'Answer:{info[\"user_rating\"].max()}')\n"
   ],
   "metadata": {
    "collapsed": false,
    "ExecuteTime": {
     "end_time": "2023-09-24T16:27:44.286948200Z",
     "start_time": "2023-09-24T16:27:44.148125200Z"
    }
   },
   "id": "e5d9fff136b06ead"
  },
  {
   "cell_type": "code",
   "execution_count": 57,
   "outputs": [
    {
     "name": "stdout",
     "output_type": "stream",
     "text": [
      "Скільки книг мають такий рейтинг?\n",
      "Answer:7\n"
     ]
    }
   ],
   "source": [
    "print('Скільки книг мають такий рейтинг?')\n",
    "shape = info.loc[info[\"user_rating\"].idxmax()]\n",
    "print(f'Answer:{(shape.shape)[0]}')"
   ],
   "metadata": {
    "collapsed": false,
    "ExecuteTime": {
     "end_time": "2023-09-24T16:27:44.340182600Z",
     "start_time": "2023-09-24T16:27:44.244564600Z"
    }
   },
   "id": "9d11432a877b1975"
  },
  {
   "cell_type": "code",
   "execution_count": 58,
   "outputs": [
    {
     "name": "stdout",
     "output_type": "stream",
     "text": [
      "Яка книга має найбільше відгуків?\n",
      "Answer:name           Where the Crawdads Sing\n",
      "author                     Delia Owens\n",
      "user_rating                        4.8\n",
      "reviews                          87841\n",
      "price                               15\n",
      "year                              2019\n",
      "genre                          Fiction\n",
      "Name: 534, dtype: object\n"
     ]
    }
   ],
   "source": [
    "print( 'Яка книга має найбільше відгуків?')\n",
    "print(f'Answer:{info.loc[info[\"reviews\"].idxmax()]}')"
   ],
   "metadata": {
    "collapsed": false,
    "ExecuteTime": {
     "end_time": "2023-09-24T16:27:44.413596300Z",
     "start_time": "2023-09-24T16:27:44.334200400Z"
    }
   },
   "id": "742dafbba1d5059c"
  },
  {
   "cell_type": "code",
   "execution_count": 59,
   "outputs": [
    {
     "name": "stdout",
     "output_type": "stream",
     "text": [
      "З тих книг, що потрапили до Топ-50 у 2015 році, яка книга найдорожча (можна використати проміжний датафрейм)? Відповідь:name           Publication Manual of the American Psychologic...\n",
      "author                        American Psychological Association\n",
      "user_rating                                                  4.5\n",
      "reviews                                                     8580\n",
      "price                                                         46\n",
      "year                                                        2015\n",
      "genre                                                Non Fiction\n",
      "Name: 277, dtype: object\n"
     ]
    }
   ],
   "source": [
    "book = info[info['year']==2015]\n",
    "print(f'З тих книг, що потрапили до Топ-50 у 2015 році, яка книга найдорожча (можна використати проміжний датафрейм)? '\n",
    "      f'Відповідь:{info.loc[book[\"price\"].idxmax()]}')"
   ],
   "metadata": {
    "collapsed": false,
    "ExecuteTime": {
     "end_time": "2023-09-24T16:27:44.509728600Z",
     "start_time": "2023-09-24T16:27:44.417584900Z"
    }
   },
   "id": "43665f261391e8ba"
  },
  {
   "cell_type": "code",
   "execution_count": 60,
   "outputs": [
    {
     "name": "stdout",
     "output_type": "stream",
     "text": [
      "Скільки книг жанру Fiction потрапили до Топ-50 у 2010 році?\n",
      "Answer:20\n"
     ]
    }
   ],
   "source": [
    "print('Скільки книг жанру Fiction потрапили до Топ-50 у 2010 році?')\n",
    "print(f'Answer:{len(info[(info[\"year\"]==2010) & (info[\"genre\"]== \"Fiction\")])}')"
   ],
   "metadata": {
    "collapsed": false,
    "ExecuteTime": {
     "end_time": "2023-09-24T16:27:44.612025700Z",
     "start_time": "2023-09-24T16:27:44.511723400Z"
    }
   },
   "id": "b487c4e3505f81e7"
  },
  {
   "cell_type": "code",
   "execution_count": 61,
   "outputs": [
    {
     "name": "stdout",
     "output_type": "stream",
     "text": [
      "Скільки книг з рейтингом 4.9 потрапило до рейтингу у 2010 та 2011 роках?\n",
      "Answer: 1\n"
     ]
    }
   ],
   "source": [
    "print('Скільки книг з рейтингом 4.9 потрапило до рейтингу у 2010 та 2011 роках?')\n",
    "print(f'Answer: {len(info[(info[\"user_rating\"] == 4.9)&(info[\"year\"].isin([2010, 2011]))])}')"
   ],
   "metadata": {
    "collapsed": false,
    "ExecuteTime": {
     "end_time": "2023-09-24T16:27:44.727364300Z",
     "start_time": "2023-09-24T16:27:44.607039200Z"
    }
   },
   "id": "241b8ebf4c9abaa9"
  },
  {
   "cell_type": "code",
   "execution_count": 62,
   "outputs": [
    {
     "name": "stdout",
     "output_type": "stream",
     "text": [
      "                                                  name              author  \\\n",
      "507                              To Kill a Mockingbird          Harper Lee   \n",
      "210                      Laugh-Out-Loud Jokes for Kids         Rob Elliott   \n",
      "206                         Knock-Knock Jokes for Kids         Rob Elliott   \n",
      "111                                    First 100 Words        Roger Priddy   \n",
      "123                               Giraffes Can't Dance       Giles Andreae   \n",
      "54   Creative Haven Creative Cats Coloring Book (Ad...     Marjorie Sarnat   \n",
      "63                      Dear Zoo: A Lift-the-Flap Book        Rod Campbell   \n",
      "89   Dover Creative Haven Art Nouveau Animal Design...         Marty Noble   \n",
      "478                        The Very Hungry Caterpillar          Eric Carle   \n",
      "201  Killing Reagan: The Violent Assault That Chang...       Bill O'Reilly   \n",
      "28                        Baby Touch and Feel: Animals                  DK   \n",
      "224                                   Love You Forever       Robert Munsch   \n",
      "55   Creative Haven Owls Coloring Book (Adult Color...     Marjorie Sarnat   \n",
      "17      Adult Coloring Book: Stress Relieving Patterns  Blue Star Coloring   \n",
      "376  The Four Agreements: A Practical Guide to Pers...     Don Miguel Ruiz   \n",
      "16   Adult Coloring Book: Stress Relieving Animal D...  Blue Star Coloring   \n",
      "253              Old School (Diary of a Wimpy Kid #10)         Jeff Kinney   \n",
      "\n",
      "     user_rating  reviews  price  year        genre  \n",
      "507          4.8    26234      0  2015      Fiction  \n",
      "210          4.6     6990      4  2015  Non Fiction  \n",
      "206          4.5     3673      4  2015  Non Fiction  \n",
      "111          4.7    17323      4  2015  Non Fiction  \n",
      "123          4.8    14038      4  2015      Fiction  \n",
      "54           4.8     4022      4  2015  Non Fiction  \n",
      "63           4.8    10922      5  2015      Fiction  \n",
      "89           4.6     2134      5  2015  Non Fiction  \n",
      "478          4.9    19546      5  2015      Fiction  \n",
      "201          4.6     5235      5  2015  Non Fiction  \n",
      "28           4.6     5360      5  2015  Non Fiction  \n",
      "224          4.8    18613      5  2015      Fiction  \n",
      "55           4.8     3871      5  2015  Non Fiction  \n",
      "17           4.4     2951      6  2015  Non Fiction  \n",
      "376          4.7    23308      6  2015  Non Fiction  \n",
      "16           4.6     2925      6  2015  Non Fiction  \n",
      "253          4.8     6169      7  2015      Fiction  \n"
     ]
    }
   ],
   "source": [
    "books = info[(info['year'] == 2015) & (info['price'] < 8)]\n",
    "print(books.sort_values(by='price', ascending=True))"
   ],
   "metadata": {
    "collapsed": false,
    "ExecuteTime": {
     "end_time": "2023-09-24T16:27:44.869349900Z",
     "start_time": "2023-09-24T16:27:44.730356600Z"
    }
   },
   "id": "57bddf16bc127c77"
  },
  {
   "cell_type": "code",
   "execution_count": 63,
   "outputs": [
    {
     "name": "stdout",
     "output_type": "stream",
     "text": [
      "last book :                                       name       author  user_rating  reviews  \\\n",
      "253  Old School (Diary of a Wimpy Kid #10)  Jeff Kinney          4.8     6169   \n",
      "\n",
      "     price  year    genre  \n",
      "253      7  2015  Fiction  \n"
     ]
    }
   ],
   "source": [
    "last = books.sort_values(by='price', ascending=True)\n",
    "print(f\"last book : {last.tail(1)}\")"
   ],
   "metadata": {
    "collapsed": false,
    "ExecuteTime": {
     "end_time": "2023-09-24T16:27:44.932381800Z",
     "start_time": "2023-09-24T16:27:44.868352100Z"
    }
   },
   "id": "adf7369d6b2b29a5"
  },
  {
   "cell_type": "code",
   "execution_count": 64,
   "outputs": [],
   "source": [
    "# PART 3!!!\n"
   ],
   "metadata": {
    "collapsed": false,
    "ExecuteTime": {
     "end_time": "2023-09-24T16:27:45.028050700Z",
     "start_time": "2023-09-24T16:27:44.933379Z"
    }
   },
   "id": "4f323dc492adc87a"
  },
  {
   "cell_type": "code",
   "execution_count": 65,
   "outputs": [
    {
     "name": "stdout",
     "output_type": "stream",
     "text": [
      "Min price for Non Fiction is 0\n",
      "Max price for Non Fiction is 105\n",
      "Min price for Fiction is 0\n",
      "Max price for Fiction is 82\n"
     ]
    }
   ],
   "source": [
    "groups = info.groupby('genre')['price'].agg(['min', 'max'])\n",
    "print(f'Min price for Non Fiction is {groups.loc[\"Non Fiction\", \"min\"]}')\n",
    "print(f'Max price for Non Fiction is {groups.loc[\"Non Fiction\", \"max\"]}')\n",
    "print(f'Min price for Fiction is {groups.loc[\"Fiction\", \"min\"]}')\n",
    "print(f'Max price for Fiction is {groups.loc[\"Fiction\", \"max\"]}')\n"
   ],
   "metadata": {
    "collapsed": false,
    "ExecuteTime": {
     "end_time": "2023-09-24T16:27:45.151605Z",
     "start_time": "2023-09-24T16:27:45.030046100Z"
    }
   },
   "id": "7cd11c2641321045"
  },
  {
   "cell_type": "code",
   "execution_count": 71,
   "outputs": [
    {
     "name": "stdout",
     "output_type": "stream",
     "text": [
      "                         author  count\n",
      "0              Abraham Verghese      2\n",
      "1                Adam Gasiewski      1\n",
      "2                 Adam Mansbach      1\n",
      "3                     Adir Levy      1\n",
      "4    Admiral William H. McRaven      1\n",
      "..                          ...    ...\n",
      "243             Walter Isaacson      3\n",
      "244               William Davis      2\n",
      "245            William P. Young      2\n",
      "246            Wizards RPG Team      3\n",
      "247                Zhi Gang Sha      2\n",
      "\n",
      "[248 rows x 2 columns]\n"
     ]
    }
   ],
   "source": [
    "df = info.groupby('author')['name'].count().reset_index()\n",
    "df = df.rename(columns={'name':'count'})\n",
    "print(df)"
   ],
   "metadata": {
    "collapsed": false,
    "ExecuteTime": {
     "end_time": "2023-09-24T16:30:39.849125Z",
     "start_time": "2023-09-24T16:30:39.831450500Z"
    }
   },
   "id": "d4ea4869573a3511"
  },
  {
   "cell_type": "code",
   "execution_count": 73,
   "outputs": [
    {
     "name": "stdout",
     "output_type": "stream",
     "text": [
      "Якої розмірності вийшла таблиця? Відповідь:(248, 2)\n",
      "Який автор має найбільше книг? Відповідь:author    Jeff Kinney\n",
      "count              12\n",
      "Name: 120, dtype: object\n",
      "Скільки книг цього автора? Відповідь:12\n"
     ]
    }
   ],
   "source": [
    "print(f'Якої розмірності вийшла таблиця? Відповідь:{df.shape}')\n",
    "print(f'Який автор має найбільше книг? Відповідь:{df.loc[df[\"count\"].idxmax()]}')\n",
    "print(f'Скільки книг цього автора? Відповідь:{df[\"count\"].max()}')"
   ],
   "metadata": {
    "collapsed": false,
    "ExecuteTime": {
     "end_time": "2023-09-24T16:34:24.706367200Z",
     "start_time": "2023-09-24T16:34:24.630983500Z"
    }
   },
   "id": "7dca9212ea7af3df"
  },
  {
   "cell_type": "code",
   "execution_count": 89,
   "outputs": [
    {
     "name": "stdout",
     "output_type": "stream",
     "text": [
      "У якого автора середній рейтинг мінімальний? Відповідь:author         Donna Tartt\n",
      "user_rating            3.9\n",
      "Name: 71, dtype: object\n",
      "Який у цього автора середній рейтинг? Відповідь:3.9\n"
     ]
    }
   ],
   "source": [
    "df2 = info.groupby('author')['user_rating'].agg('mean').reset_index()\n",
    "print(f'У якого автора середній рейтинг мінімальний? Відповідь:{df2.loc[df2[\"user_rating\"].idxmin()]}')\n",
    "print(f'Який у цього автора середній рейтинг? Відповідь:{df2[\"user_rating\"].min()}')"
   ],
   "metadata": {
    "collapsed": false,
    "ExecuteTime": {
     "end_time": "2023-09-24T16:48:06.401006500Z",
     "start_time": "2023-09-24T16:48:06.381367900Z"
    }
   },
   "id": "321907731e6f0fcf"
  },
  {
   "cell_type": "code",
   "execution_count": 99,
   "outputs": [],
   "source": [
    "# При виконанні методу concat колонка author подвоїлась, тому вирішив використати мердж\n",
    "df3 = df2.merge(df, on='author', how='left')\n",
    "df3 = df3.sort_values(by=['count', 'user_rating'], ascending=False)"
   ],
   "metadata": {
    "collapsed": false,
    "ExecuteTime": {
     "end_time": "2023-09-24T17:05:09.050511500Z",
     "start_time": "2023-09-24T17:05:08.949495100Z"
    }
   },
   "id": "5b421e7cae396db9"
  },
  {
   "cell_type": "code",
   "execution_count": 100,
   "outputs": [
    {
     "name": "stdout",
     "output_type": "stream",
     "text": [
      "author         Jeff Kinney\n",
      "user_rating            4.8\n",
      "count                   12\n",
      "Name: 120, dtype: object\n"
     ]
    }
   ],
   "source": [
    "print(df3.iloc[0])"
   ],
   "metadata": {
    "collapsed": false,
    "ExecuteTime": {
     "end_time": "2023-09-24T17:05:11.447927Z",
     "start_time": "2023-09-24T17:05:11.437927900Z"
    }
   },
   "id": "b4592c566ca9a9df"
  },
  {
   "cell_type": "code",
   "execution_count": 102,
   "outputs": [
    {
     "data": {
      "text/plain": "<Figure size 640x480 with 1 Axes>",
      "image/png": "[encoded data removed]"
     },
     "metadata": {},
     "output_type": "display_data"
    }
   ],
   "source": [
    "data = df3['user_rating']\n",
    "fig, ax = plt.subplots()\n",
    "ax.bar(df3.index, data, color='skyblue', edgecolor='black')\n",
    "ax.set_xlabel('author')\n",
    "ax.set_ylabel('User rating')\n",
    "plt.title('Amazon 2009-2019 books rating')\n",
    "ax.grid(True, linestyle='--', alpha=1)\n",
    "plt.show()"
   ],
   "metadata": {
    "collapsed": false,
    "ExecuteTime": {
     "end_time": "2023-09-24T18:18:36.142560900Z",
     "start_time": "2023-09-24T18:18:35.706316900Z"
    }
   },
   "id": "936bc05a85a8224e"
  },
  {
   "cell_type": "code",
   "execution_count": 103,
   "outputs": [],
   "source": [],
   "metadata": {
    "collapsed": false,
    "ExecuteTime": {
     "end_time": "2023-09-24T18:21:17.945382700Z",
     "start_time": "2023-09-24T18:21:17.909547100Z"
    }
   },
   "id": "a0e45c41fb008fd"
  },
  {
   "cell_type": "code",
   "execution_count": 107,
   "outputs": [
    {
     "data": {
      "text/plain": "<Figure size 640x480 with 1 Axes>",
      "image/png": "[encoded data removed]"
     },
     "metadata": {},
     "output_type": "display_data"
    }
   ],
   "source": [
    "plt.plot(info['price'])\n",
    "plt.xlabel('Index', fontsize='small', color='midnightblue')\n",
    "plt.ylabel('Price', fontsize='small', color='midnightblue')\n",
    "plt.title('Books price', fontsize=15)\n",
    "plt.show()"
   ],
   "metadata": {
    "collapsed": false,
    "ExecuteTime": {
     "end_time": "2023-09-24T18:25:16.160403600Z",
     "start_time": "2023-09-24T18:25:16.021008Z"
    }
   },
   "id": "6798f297757fa08e"
  },
  {
   "cell_type": "code",
   "execution_count": 116,
   "outputs": [
    {
     "data": {
      "text/plain": "<Figure size 640x480 with 1 Axes>",
      "image/png": "[encoded data removed]"
     },
     "metadata": {},
     "output_type": "display_data"
    }
   ],
   "source": [
    "data = info[info['year'] == 2019].sort_values(by='price', ascending=True)\n",
    "x = data['price']\n",
    "y = list(range(len(data)))\n",
    "plt.plot(x,y, color='red')\n",
    "plt.xlabel('Index', fontsize='small', color='darkorange')\n",
    "plt.ylabel('Price', fontsize='small', color='darkorange')\n",
    "plt.title('Price on TOP-50 books in 2019', fontsize=15)\n",
    "plt.show()"
   ],
   "metadata": {
    "collapsed": false,
    "ExecuteTime": {
     "end_time": "2023-09-24T19:10:07.527968800Z",
     "start_time": "2023-09-24T19:10:07.384588300Z"
    }
   },
   "id": "c5637566ebe1da6b"
  }
 ],
 "metadata": {
  "kernelspec": {
   "display_name": "Python 3",
   "language": "python",
   "name": "python3"
  },
  "language_info": {
   "codemirror_mode": {
    "name": "ipython",
    "version": 2
   },
   "file_extension": ".py",
   "mimetype": "text/x-python",
   "name": "python",
   "nbconvert_exporter": "python",
   "pygments_lexer": "ipython2",
   "version": "2.7.6"
  }
 },
 "nbformat": 4,
 "nbformat_minor": 5
}
